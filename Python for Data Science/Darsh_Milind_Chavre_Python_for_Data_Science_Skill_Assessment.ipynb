{
  "nbformat": 4,
  "nbformat_minor": 0,
  "metadata": {
    "colab": {
      "provenance": []
    },
    "kernelspec": {
      "name": "python3",
      "display_name": "Python 3"
    },
    "language_info": {
      "name": "python"
    }
  },
  "cells": [
    {
      "cell_type": "code",
      "execution_count": 100,
      "metadata": {
        "id": "pvYx8CitoHMW"
      },
      "outputs": [],
      "source": [
        "import pandas as pd\n",
        "import matplotlib.pyplot as plt\n",
        "from scipy.stats import pearsonr\n",
        "import plotly.express as px\n",
        "from scipy.stats import kstest\n",
        "import scipy.stats as stats"
      ]
    },
    {
      "cell_type": "markdown",
      "source": [
        "1. Read in the gapminder_clean.csv data as a pandas DataFrame.\n",
        "\n",
        "I also created another simplified dataframe with less columns, where I also added dropna() to allow for p-value calculations later."
      ],
      "metadata": {
        "id": "xVAkVTaYWd6x"
      }
    },
    {
      "cell_type": "code",
      "source": [
        "df = pd.read_csv('/gapminder_clean.csv') # importing gapminder_clean.csv\n",
        "dfColumnFilter = df[['Year', 'CO2 emissions (metric tons per capita)', 'pop', 'continent', 'gdpPercap']].dropna() # filtering out unused columns"
      ],
      "metadata": {
        "id": "-8-uGob-E5Pr"
      },
      "execution_count": 101,
      "outputs": []
    },
    {
      "cell_type": "markdown",
      "source": [
        "2. Filter the data to include only rows where Year is 1962 and then make a scatter plot comparing 'CO2 emissions (metric tons per capita)' and gdpPercap for the filtered data.\n",
        "\n",
        "I iterated through the rows of the simplified dataframe, using drop() to delete every row which didn't have a value of 1962 for the year."
      ],
      "metadata": {
        "id": "GiEIZwOPWwxC"
      }
    },
    {
      "cell_type": "code",
      "source": [
        "for index, row in dfColumnFilter.iterrows():\n",
        "  df_1962_alt = dfColumnFilter.drop(dfColumnFilter[dfColumnFilter['Year'] != 1962].index).dropna()"
      ],
      "metadata": {
        "id": "fIWnyu-KG0JC"
      },
      "execution_count": 102,
      "outputs": []
    },
    {
      "cell_type": "markdown",
      "source": [
        "2. Filter the data to include only rows where Year is 1962 and then make a scatter plot comparing 'CO2 emissions (metric tons per capita)' and 'gdpPercap' for the filtered data.\n",
        "\n",
        "I created a scatter plot comparing 'CO2 emissions (metric tons per capita)' and 'gdpPercap'."
      ],
      "metadata": {
        "id": "RQRlPx-0XWL9"
      }
    },
    {
      "cell_type": "code",
      "source": [
        "fig1, ax1 = plt.subplots()\n",
        "\n",
        "ax1.set_xlabel('CO2 emissions (metric tons per capita)')\n",
        "ax1.set_ylabel('GDP per Capita')\n",
        "ax1.scatter(df_1962_alt['CO2 emissions (metric tons per capita)'], df_1962_alt['gdpPercap'])\n",
        "\n",
        "plt.show()"
      ],
      "metadata": {
        "colab": {
          "base_uri": "https://localhost:8080/",
          "height": 454
        },
        "id": "CBlE0BMNL00g",
        "outputId": "804b7907-8b30-4150-949e-d2a54527b1ff"
      },
      "execution_count": 103,
      "outputs": [
        {
          "output_type": "display_data",
          "data": {
            "text/plain": [
              "<Figure size 640x480 with 1 Axes>"
            ],
            "image/png": "[encoded data removed]"
          },
          "metadata": {}
        }
      ]
    },
    {
      "cell_type": "markdown",
      "source": [
        "3. On the filtered data, calculate the correlation of 'CO2 emissions (metric tons per capita)' and gdpPercap. What is the correlation and associated p value?\n",
        "\n",
        "I used .corr() to calculate relationship from the pandas library and pearsonr() from from scipy to find the p-value.\n",
        "\n",
        "Output: The correlation between CO2 emissions (metric tons per capita) and gdpPercap is in 1962 is 0.9260816725019451.\n",
        "The associated p value is PearsonRResult(statistic=0.9260816725019472, pvalue=1.1286792210038658e-46)"
      ],
      "metadata": {
        "id": "e0sMhz8BX7pd"
      }
    },
    {
      "cell_type": "code",
      "source": [
        "correlation_1962 = df_1962_alt['CO2 emissions (metric tons per capita)'].corr(df_1962_alt['gdpPercap'])\n",
        "pvalue_1962 = pearsonr(df_1962_alt['CO2 emissions (metric tons per capita)'], df_1962_alt['gdpPercap'])\n",
        "\n",
        "print(f'The correlation between CO2 emissions (metric tons per capita) and gdpPercap is in 1962 is {correlation_1962}.')\n",
        "print(f'The associated p value is {pvalue_1962}')"
      ],
      "metadata": {
        "id": "cKDkTpARoHo5",
        "colab": {
          "base_uri": "https://localhost:8080/"
        },
        "outputId": "066ee449-5793-43a6-e76d-4c0a1c7d7e39"
      },
      "execution_count": 104,
      "outputs": [
        {
          "output_type": "stream",
          "name": "stdout",
          "text": [
            "The correlation between CO2 emissions (metric tons per capita) and gdpPercap is in 1962 is 0.9260816725019451.\n",
            "The associated p value is PearsonRResult(statistic=0.9260816725019472, pvalue=1.1286792210038658e-46)\n"
          ]
        }
      ]
    },
    {
      "cell_type": "markdown",
      "source": [
        "4. On the unfiltered data, answer \"In what year is the correlation between 'CO2 emissions (metric tons per capita)' and gdpPercap the strongest?\" Filter the dataset to that year for the next step...\n",
        "\n",
        "To calculate this, I created a new dataframe that is the sorted version of the original dataframe (sorted by year, ascending).\n",
        "\n",
        "After this, I iterated through the rows of the sorted dataframe, and it takes the year that is currently being iterated through, known as 'iterYear' (the column for year is column 2). Then it checks to see if 'iterYear' is the same as 'currentYear' ('currentYear' is essentially holding the year that the correlation is being calculated for), if they are the same, the loop will just continue iterating through the dataframe. But when there is a change in year, meaning that 'iterYear' is not equavalent to 'currentYear', I subtract the current index by 1, to get the 'stopIndex' ('startIndex' and 'stopIndex' essentialy hold the range of values where the year is the same). Then the correlation is calculated using .corr(), between 'CO2 emissions (metric tons per capita)' (which is in column 4) and 'gdpPercap' (which is in column 19), for the range of values created with 'stopIndex' and 'startIndex'.\n",
        "\n",
        "After this, it checks to see if the correlation calculated is greater than 'topCorrel' (represents the greatest correlation value calculated). If 'correl' is greater than 'topCorrel', I assign the value of 'correl' to 'topCorrel' as 'correl' has the greatest correlation now. This also means that I overwrite 'topYear' with 'currentYear' as 'currentYears' now holds the year with the greatest correlation.\n",
        "\n",
        "After this, the value of 'startIndex' is set to the current index, and 'currentYear' is also resent to the next year (note that this occurs whether or not 'correl' is greater than 'topCorrel').\n",
        "\n",
        "\n",
        "Output:\n",
        "The year when the correlation between CO2 emissions (metric tons per capita) and gdpPercap was 1992.\n",
        "The correlation was 0.9999235825175655 in 1992.\n",
        "\n",
        "Lastly, I create a new dataset that is filtered to only contain rows that were from the year 1992."
      ],
      "metadata": {
        "id": "OfbZEm8OYzLn"
      }
    },
    {
      "cell_type": "code",
      "source": [
        "dfSortByYear = df.sort_values('Year')\n",
        "\n",
        "topCorrel = 0\n",
        "topYear = 0\n",
        "currentYear = 0\n",
        "startIndex = 0\n",
        "stopIndex = 0\n",
        "iterYear = 0\n",
        "\n",
        "for index, row in dfSortByYear.iterrows():\n",
        "  iterYear = dfSortByYear.iloc[index, 2]\n",
        "  if iterYear != currentYear:\n",
        "    stopIndex = index - 1\n",
        "    correl = dfSortByYear.iloc[startIndex:stopIndex, 4].corr(dfSortByYear.iloc[startIndex:stopIndex, 19])\n",
        "    if correl > topCorrel:\n",
        "      topCorrel = correl\n",
        "      topYear = currentYear\n",
        "    startIndex = index\n",
        "    currentYear = dfSortByYear.iloc[index, 2]\n",
        "\n",
        "\n",
        "print(f'The year when the correlation between CO2 emissions (metric tons per capita) and gdpPercap was {topYear}.')\n",
        "print(f'The correlation was {topCorrel} in {topYear}.')\n",
        "\n",
        "for index, row in df.iterrows():\n",
        "  df_1992 = df.drop(df[df['Year'] != 1992].index)"
      ],
      "metadata": {
        "id": "ZAnwf-B9Eavs",
        "colab": {
          "base_uri": "https://localhost:8080/"
        },
        "outputId": "6f419312-a109-4128-ac38-fd9119dbb75d"
      },
      "execution_count": 105,
      "outputs": [
        {
          "output_type": "stream",
          "name": "stdout",
          "text": [
            "The year when the correlation between CO2 emissions (metric tons per capita) and gdpPercap was 1992.\n",
            "The correlation was 0.9999235825175655 in 1992.\n"
          ]
        }
      ]
    },
    {
      "cell_type": "markdown",
      "source": [
        "5. Using plotly or bokeh, create an interactive scatter plot comparing 'CO2 emissions (metric tons per capita)' and 'gdpPercap', where the point size is determined by 'pop' (population) and the color is determined by the continent.\n",
        "\n",
        "I created a bubble chart comparing 'CO2 emissions (metric tons per capita)' and 'gdpPercap' using plotly express. I added some features, including a hover name that is the name of the country. I set the size to 'pop' or population, and the color is based off the continent."
      ],
      "metadata": {
        "id": "biw7byRzeU8G"
      }
    },
    {
      "cell_type": "code",
      "source": [
        "fig2 = px.scatter(df_1992, x='CO2 emissions (metric tons per capita)', y='gdpPercap',size='pop', color='continent',\n",
        "                 hover_name='Country Name', log_x=True, size_max=60)\n",
        "fig2.show()"
      ],
      "metadata": {
        "id": "_2FLCmHUgW4Q",
        "colab": {
          "base_uri": "https://localhost:8080/",
          "height": 542
        },
        "outputId": "86513f4c-3816-497d-d555-3d9a04db267d"
      },
      "execution_count": 106,
      "outputs": [
        {
          "output_type": "display_data",
          "data": {
            "text/html": [
              "<html>\n",
              "<head><meta charset=\"utf-8\" /></head>\n",
              "<body>\n",
              "    <div>            <script src=\"https://cdnjs.cloudflare.com/ajax/libs/mathjax/2.7.5/MathJax.js?config=TeX-AMS-MML_SVG\"></script><script type=\"text/javascript\">if (window.MathJax && window.MathJax.Hub && window.MathJax.Hub.Config) {window.MathJax.Hub.Config({SVG: {font: \"STIX-Web\"}});}</script>                <script type=\"text/javascript\">window.PlotlyConfig = {MathJaxConfig: 'local'};</script>\n",
              "        <script charset=\"utf-8\" src=\"https://cdn.plot.ly/plotly-2.24.1.min.js\"></script>                <div id=\"2d00a8c2-a38f-4aa1-864c-93f78f3fb6dc\" class=\"plotly-graph-div\" style=\"height:525px; width:100%;\"></div>            <script type=\"text/javascript\">                                    window.PLOTLYENV=window.PLOTLYENV || {};                                    if (document.getElementById(\"2d00a8c2-a38f-4aa1-864c-93f78f3fb6dc\")) {                    Plotly.newPlot(                        \"2d00a8c2-a38f-4aa1-864c-93f78f3fb6dc\",                        [{\"hovertemplate\":\"\\u003cb\\u003e%{hovertext}\\u003c\\u002fb\\u003e\\u003cbr\\u003e\\u003cbr\\u003econtinent=Asia\\u003cbr\\u003eCO2 emissions (metric tons per capita)=%{x}\\u003cbr\\u003egdpPercap=%{y}\\u003cbr\\u003epop=%{marker.size}\\u003cextra\\u003e\\u003c\\u002fextra\\u003e\",\"hovertext\":[\"Afghanistan\",\"Bahrain\",\"Bangladesh\",\"Cambodia\",\"China\",\"India\",\"Indonesia\",\"Iraq\",\"Israel\",\"Japan\",\"Jordan\",\"Kuwait\",\"Lebanon\",\"Malaysia\",\"Mongolia\",\"Myanmar\",\"Nepal\",\"Oman\",\"Pakistan\",\"Philippines\",\"Saudi Arabia\",\"Singapore\",\"Sri Lanka\",\"Thailand\",\"Vietnam\",\"West Bank and Gaza\"],\"legendgroup\":\"Asia\",\"marker\":{\"color\":\"#636efa\",\"size\":[16317921.0,529491.0,113704579.0,10150094.0,1164970000.0,872000000.0,184816000.0,17861905.0,4936550.0,124329269.0,3867409.0,1418095.0,3219994.0,18319502.0,2312802.0,40546538.0,20326209.0,1915208.0,120065004.0,67185766.0,16945857.0,3235865.0,17587060.0,56667095.0,69940728.0,2104779.0],\"sizemode\":\"area\",\"sizeref\":323602.77777777775,\"symbol\":\"circle\"},\"mode\":\"markers\",\"name\":\"Asia\",\"orientation\":\"v\",\"showlegend\":true,\"x\":[0.101374764198,20.8551558303,0.159912481644,0.158308450418,2.31420729032,0.771227449279,1.0788976275700002,3.33928233885,8.35257134492,9.04657923673,3.2762549333,null,3.67107001461,3.92082032003,4.9116583597300005,0.113344189828,0.0673454395699,6.100819530549999,0.640665437,0.74913319449,16.4114288322,15.5592494254,0.295887811002,1.9005538007,0.313770454682,null],\"xaxis\":\"x\",\"y\":[649.3413952000001,19035.57917,837.8101642999999,682.3031755,1655.784158,1164.406809,2383.140898,3745.640687,18051.52254,26824.89511,3431.593647,34932.91959,6890.806854,7277.912802,1785.402016,347.0,897.7403604,18616.70691,1971.829464,2279.3240170000004,24841.61777,24769.8912,2153.739222,4616.8965450000005,989.0231487,6017.654756],\"yaxis\":\"y\",\"type\":\"scatter\"},{\"hovertemplate\":\"\\u003cb\\u003e%{hovertext}\\u003c\\u002fb\\u003e\\u003cbr\\u003e\\u003cbr\\u003econtinent=Europe\\u003cbr\\u003eCO2 emissions (metric tons per capita)=%{x}\\u003cbr\\u003egdpPercap=%{y}\\u003cbr\\u003epop=%{marker.size}\\u003cextra\\u003e\\u003c\\u002fextra\\u003e\",\"hovertext\":[\"Albania\",\"Austria\",\"Belgium\",\"Bosnia and Herzegovina\",\"Bulgaria\",\"Croatia\",\"Czech Republic\",\"Denmark\",\"Finland\",\"France\",\"Germany\",\"Greece\",\"Hungary\",\"Iceland\",\"Ireland\",\"Italy\",\"Montenegro\",\"Netherlands\",\"Norway\",\"Poland\",\"Portugal\",\"Romania\",\"Serbia\",\"Slovak Republic\",\"Slovenia\",\"Spain\",\"Sweden\",\"Switzerland\",\"Turkey\",\"United Kingdom\"],\"legendgroup\":\"Europe\",\"marker\":{\"color\":\"#EF553B\",\"size\":[3326498.0,7914969.0,10045622.0,4256013.0,8658506.0,4494013.0,10315702.0,5171393.0,5041039.0,57374179.0,80597764.0,10325429.0,10348684.0,259012.0,3557761.0,56840847.0,621621.0,15174244.0,4286357.0,38370697.0,9927680.0,22797027.0,9826397.0,5302888.0,1999210.0,39549438.0,8718867.0,6995447.0,58179144.0,57866349.0],\"sizemode\":\"area\",\"sizeref\":323602.77777777775,\"symbol\":\"circle\"},\"mode\":\"markers\",\"name\":\"Europe\",\"orientation\":\"v\",\"showlegend\":true,\"x\":[0.774724910911,7.226236428360001,11.1464825143,3.4997543691,6.376764778759999,3.68832930649,13.3903071996,10.5045544991,9.4155210877,6.21601293676,11.0633202537,7.260257729039999,5.823721681059999,6.967183412050001,8.72121160175,7.404168932110001,null,10.6837881646,7.46762680393,9.24691531704,4.851017443469999,5.40760736332,null,8.32866159122,6.250344853840001,5.98758891766,5.88669942214,6.22423627316,2.7433280785900003,9.66092999837],\"xaxis\":\"x\",\"y\":[2497.437901,27042.01868,25575.57069,2546.781445,6302.6234380000005,8447.794873,14297.02122,26406.73985,20647.16499,24703.79615,26505.30317,17541.49634,10535.62855,25144.39201,17558.81555,22013.64486,7003.339037000001,26790.94961,33965.66115,7738.881247,16207.266630000002,6598.409903,9325.068238,9498.467723,14214.71681,18603.06452,23880.01683,31871.5303,5678.348271,22705.09254],\"yaxis\":\"y\",\"type\":\"scatter\"},{\"hovertemplate\":\"\\u003cb\\u003e%{hovertext}\\u003c\\u002fb\\u003e\\u003cbr\\u003e\\u003cbr\\u003econtinent=Africa\\u003cbr\\u003eCO2 emissions (metric tons per capita)=%{x}\\u003cbr\\u003egdpPercap=%{y}\\u003cbr\\u003epop=%{marker.size}\\u003cextra\\u003e\\u003c\\u002fextra\\u003e\",\"hovertext\":[\"Algeria\",\"Angola\",\"Benin\",\"Botswana\",\"Burkina Faso\",\"Burundi\",\"Cameroon\",\"Central African Republic\",\"Chad\",\"Comoros\",\"Cote d'Ivoire\",\"Djibouti\",\"Equatorial Guinea\",\"Eritrea\",\"Ethiopia\",\"Gabon\",\"Ghana\",\"Guinea\",\"Guinea-Bissau\",\"Kenya\",\"Lesotho\",\"Liberia\",\"Libya\",\"Madagascar\",\"Malawi\",\"Mali\",\"Mauritania\",\"Mauritius\",\"Morocco\",\"Mozambique\",\"Namibia\",\"Niger\",\"Nigeria\",\"Rwanda\",\"Sao Tome and Principe\",\"Senegal\",\"Sierra Leone\",\"Somalia\",\"South Africa\",\"Sudan\",\"Swaziland\",\"Tanzania\",\"Togo\",\"Tunisia\",\"Uganda\",\"Zambia\",\"Zimbabwe\"],\"legendgroup\":\"Africa\",\"marker\":{\"color\":\"#00cc96\",\"size\":[26298373.0,8735988.0,4981671.0,1342614.0,8878303.0,5809236.0,12467171.0,3265124.0,6429417.0,454429.0,12772596.0,384156.0,387838.0,3668440.0,52088559.0,985739.0,16278738.0,6990574.0,1050938.0,25020539.0,1803195.0,1912974.0,4364501.0,12210395.0,10014249.0,8416215.0,2119465.0,1096202.0,25798239.0,13160731.0,1554253.0,8392818.0,93364244.0,7290203.0,125911.0,8307920.0,4260884.0,6099799.0,39964159.0,28227588.0,962344.0,26605473.0,3747553.0,8523077.0,18252190.0,8381163.0,10704340.0],\"sizemode\":\"area\",\"sizeref\":323602.77777777775,\"symbol\":\"circle\"},\"mode\":\"markers\",\"name\":\"Africa\",\"orientation\":\"v\",\"showlegend\":true,\"x\":[2.97599750207,0.438530822634,0.1670467176349999,1.90323550296,0.0678408228959999,0.0522512561638,0.296586888269,0.0700366218311,0.0138591477966,0.1415984481619999,0.354420170237,0.497071267161,0.535419878688,null,0.057489213371,4.9095409308,0.257399415067,0.159142097173,0.162652031125,0.221370014264,null,0.1409917423809999,8.10570349749,0.0819281045938,0.0677887595454,0.0499043935981,0.4643181871280001,1.57576299679,1.00668518616,0.0707377442686,0.760683337198,0.0829625233792,0.639111970005,0.0726525430647,0.402810403393,0.435502186532,0.113859322373,0.00174785037918,8.38965516612,0.159714320472,0.290792303956,0.0854613122069,0.209839683,1.76959669725,0.0424523519255999,0.286451407703,1.53372386968],\"xaxis\":\"x\",\"y\":[5023.216647,2627.845685,1191.207681,7954.111645,931.7527731,631.6998778,1793.1632780000002,747.9055252,1058.0643,1246.90737,1648.073791,2377.1561920000004,1132.055034,582.8585102000001,421.3534653,13522.15752,925.060154,794.3484384,745.5398706,1341.9217210000002,977.4862725,636.6229191000001,9640.138501,1040.67619,563.2000145,739.014375,1361.369784,6058.2538460000005,2948.047252,410.8968239,3804.537999,581.182725,1619.848217,737.0685949,1428.777814,1367.899369,1068.696278,926.9602964,7225.069257999999,1492.197043,3553.0224,825.682454,1034.298904,4332.720164,644.1707968999999,1210.884633,693.4207856],\"yaxis\":\"y\",\"type\":\"scatter\"},{\"hovertemplate\":\"\\u003cb\\u003e%{hovertext}\\u003c\\u002fb\\u003e\\u003cbr\\u003e\\u003cbr\\u003econtinent=Americas\\u003cbr\\u003eCO2 emissions (metric tons per capita)=%{x}\\u003cbr\\u003egdpPercap=%{y}\\u003cbr\\u003epop=%{marker.size}\\u003cextra\\u003e\\u003c\\u002fextra\\u003e\",\"hovertext\":[\"Argentina\",\"Bolivia\",\"Brazil\",\"Canada\",\"Chile\",\"Colombia\",\"Costa Rica\",\"Cuba\",\"Dominican Republic\",\"Ecuador\",\"El Salvador\",\"Guatemala\",\"Haiti\",\"Honduras\",\"Jamaica\",\"Mexico\",\"Nicaragua\",\"Panama\",\"Paraguay\",\"Peru\",\"Puerto Rico\",\"Trinidad and Tobago\",\"United States\",\"Uruguay\"],\"legendgroup\":\"Americas\",\"marker\":{\"color\":\"#FFA15A\",\"size\":[33958947.0,6893451.0,155975974.0,28523502.0,13572994.0,34202721.0,3173216.0,10723260.0,7351181.0,10748394.0,5274649.0,8486949.0,6326682.0,5077347.0,2378618.0,88111030.0,4017939.0,2484997.0,4483945.0,22430449.0,3585176.0,1183669.0,256894189.0,3149262.0],\"sizemode\":\"area\",\"sizeref\":323602.77777777775,\"symbol\":\"circle\"},\"mode\":\"markers\",\"name\":\"Americas\",\"orientation\":\"v\",\"showlegend\":true,\"x\":[3.60858224101,0.922958891002,1.42043465472,15.4670639631,2.39368252625,1.7449832717400002,1.16399725799,2.9234827481,1.4626656496,2.0812048195,0.61545764188,0.625582317205,0.123110762269,0.59399153248,3.18416339117,3.68868500041,0.552851551957,1.6488706301700002,0.570805222416,0.896708879109,null,16.9587704427,19.1455557591,1.63889411012],\"xaxis\":\"x\",\"y\":[9308.41871,2961.699694,6950.283020999999,26342.88426,7596.125964,5444.648617,6160.416317,5592.843963,3044.214214,7103.702595000001,4444.2317,4439.45084,1456.309517,3081.694603,7404.923685,9472.384295,2170.151724,6618.74305,4196.411078,4446.380924,14641.58711,7370.990932,32003.93224,8137.004775],\"yaxis\":\"y\",\"type\":\"scatter\"},{\"hovertemplate\":\"\\u003cb\\u003e%{hovertext}\\u003c\\u002fb\\u003e\\u003cbr\\u003e\\u003cbr\\u003econtinent=Oceania\\u003cbr\\u003eCO2 emissions (metric tons per capita)=%{x}\\u003cbr\\u003egdpPercap=%{y}\\u003cbr\\u003epop=%{marker.size}\\u003cextra\\u003e\\u003c\\u002fextra\\u003e\",\"hovertext\":[\"Australia\",\"New Zealand\"],\"legendgroup\":\"Oceania\",\"marker\":{\"color\":\"#19d3f3\",\"size\":[17481977.0,3437674.0],\"sizemode\":\"area\",\"sizeref\":323602.77777777775,\"symbol\":\"circle\"},\"mode\":\"markers\",\"name\":\"Oceania\",\"orientation\":\"v\",\"showlegend\":true,\"x\":[15.3177685053,7.10204150975],\"xaxis\":\"x\",\"y\":[23424.76683,18363.32494],\"yaxis\":\"y\",\"type\":\"scatter\"}],                        {\"template\":{\"data\":{\"histogram2dcontour\":[{\"type\":\"histogram2dcontour\",\"colorbar\":{\"outlinewidth\":0,\"ticks\":\"\"},\"colorscale\":[[0.0,\"#0d0887\"],[0.1111111111111111,\"#46039f\"],[0.2222222222222222,\"#7201a8\"],[0.3333333333333333,\"#9c179e\"],[0.4444444444444444,\"#bd3786\"],[0.5555555555555556,\"#d8576b\"],[0.6666666666666666,\"#ed7953\"],[0.7777777777777778,\"#fb9f3a\"],[0.8888888888888888,\"#fdca26\"],[1.0,\"#f0f921\"]]}],\"choropleth\":[{\"type\":\"choropleth\",\"colorbar\":{\"outlinewidth\":0,\"ticks\":\"\"}}],\"histogram2d\":[{\"type\":\"histogram2d\",\"colorbar\":{\"outlinewidth\":0,\"ticks\":\"\"},\"colorscale\":[[0.0,\"#0d0887\"],[0.1111111111111111,\"#46039f\"],[0.2222222222222222,\"#7201a8\"],[0.3333333333333333,\"#9c179e\"],[0.4444444444444444,\"#bd3786\"],[0.5555555555555556,\"#d8576b\"],[0.6666666666666666,\"#ed7953\"],[0.7777777777777778,\"#fb9f3a\"],[0.8888888888888888,\"#fdca26\"],[1.0,\"#f0f921\"]]}],\"heatmap\":[{\"type\":\"heatmap\",\"colorbar\":{\"outlinewidth\":0,\"ticks\":\"\"},\"colorscale\":[[0.0,\"#0d0887\"],[0.1111111111111111,\"#46039f\"],[0.2222222222222222,\"#7201a8\"],[0.3333333333333333,\"#9c179e\"],[0.4444444444444444,\"#bd3786\"],[0.5555555555555556,\"#d8576b\"],[0.6666666666666666,\"#ed7953\"],[0.7777777777777778,\"#fb9f3a\"],[0.8888888888888888,\"#fdca26\"],[1.0,\"#f0f921\"]]}],\"heatmapgl\":[{\"type\":\"heatmapgl\",\"colorbar\":{\"outlinewidth\":0,\"ticks\":\"\"},\"colorscale\":[[0.0,\"#0d0887\"],[0.1111111111111111,\"#46039f\"],[0.2222222222222222,\"#7201a8\"],[0.3333333333333333,\"#9c179e\"],[0.4444444444444444,\"#bd3786\"],[0.5555555555555556,\"#d8576b\"],[0.6666666666666666,\"#ed7953\"],[0.7777777777777778,\"#fb9f3a\"],[0.8888888888888888,\"#fdca26\"],[1.0,\"#f0f921\"]]}],\"contourcarpet\":[{\"type\":\"contourcarpet\",\"colorbar\":{\"outlinewidth\":0,\"ticks\":\"\"}}],\"contour\":[{\"type\":\"contour\",\"colorbar\":{\"outlinewidth\":0,\"ticks\":\"\"},\"colorscale\":[[0.0,\"#0d0887\"],[0.1111111111111111,\"#46039f\"],[0.2222222222222222,\"#7201a8\"],[0.3333333333333333,\"#9c179e\"],[0.4444444444444444,\"#bd3786\"],[0.5555555555555556,\"#d8576b\"],[0.6666666666666666,\"#ed7953\"],[0.7777777777777778,\"#fb9f3a\"],[0.8888888888888888,\"#fdca26\"],[1.0,\"#f0f921\"]]}],\"surface\":[{\"type\":\"surface\",\"colorbar\":{\"outlinewidth\":0,\"ticks\":\"\"},\"colorscale\":[[0.0,\"#0d0887\"],[0.1111111111111111,\"#46039f\"],[0.2222222222222222,\"#7201a8\"],[0.3333333333333333,\"#9c179e\"],[0.4444444444444444,\"#bd3786\"],[0.5555555555555556,\"#d8576b\"],[0.6666666666666666,\"#ed7953\"],[0.7777777777777778,\"#fb9f3a\"],[0.8888888888888888,\"#fdca26\"],[1.0,\"#f0f921\"]]}],\"mesh3d\":[{\"type\":\"mesh3d\",\"colorbar\":{\"outlinewidth\":0,\"ticks\":\"\"}}],\"scatter\":[{\"fillpattern\":{\"fillmode\":\"overlay\",\"size\":10,\"solidity\":0.2},\"type\":\"scatter\"}],\"parcoords\":[{\"type\":\"parcoords\",\"line\":{\"colorbar\":{\"outlinewidth\":0,\"ticks\":\"\"}}}],\"scatterpolargl\":[{\"type\":\"scatterpolargl\",\"marker\":{\"colorbar\":{\"outlinewidth\":0,\"ticks\":\"\"}}}],\"bar\":[{\"error_x\":{\"color\":\"#2a3f5f\"},\"error_y\":{\"color\":\"#2a3f5f\"},\"marker\":{\"line\":{\"color\":\"#E5ECF6\",\"width\":0.5},\"pattern\":{\"fillmode\":\"overlay\",\"size\":10,\"solidity\":0.2}},\"type\":\"bar\"}],\"scattergeo\":[{\"type\":\"scattergeo\",\"marker\":{\"colorbar\":{\"outlinewidth\":0,\"ticks\":\"\"}}}],\"scatterpolar\":[{\"type\":\"scatterpolar\",\"marker\":{\"colorbar\":{\"outlinewidth\":0,\"ticks\":\"\"}}}],\"histogram\":[{\"marker\":{\"pattern\":{\"fillmode\":\"overlay\",\"size\":10,\"solidity\":0.2}},\"type\":\"histogram\"}],\"scattergl\":[{\"type\":\"scattergl\",\"marker\":{\"colorbar\":{\"outlinewidth\":0,\"ticks\":\"\"}}}],\"scatter3d\":[{\"type\":\"scatter3d\",\"line\":{\"colorbar\":{\"outlinewidth\":0,\"ticks\":\"\"}},\"marker\":{\"colorbar\":{\"outlinewidth\":0,\"ticks\":\"\"}}}],\"scattermapbox\":[{\"type\":\"scattermapbox\",\"marker\":{\"colorbar\":{\"outlinewidth\":0,\"ticks\":\"\"}}}],\"scatterternary\":[{\"type\":\"scatterternary\",\"marker\":{\"colorbar\":{\"outlinewidth\":0,\"ticks\":\"\"}}}],\"scattercarpet\":[{\"type\":\"scattercarpet\",\"marker\":{\"colorbar\":{\"outlinewidth\":0,\"ticks\":\"\"}}}],\"carpet\":[{\"aaxis\":{\"endlinecolor\":\"#2a3f5f\",\"gridcolor\":\"white\",\"linecolor\":\"white\",\"minorgridcolor\":\"white\",\"startlinecolor\":\"#2a3f5f\"},\"baxis\":{\"endlinecolor\":\"#2a3f5f\",\"gridcolor\":\"white\",\"linecolor\":\"white\",\"minorgridcolor\":\"white\",\"startlinecolor\":\"#2a3f5f\"},\"type\":\"carpet\"}],\"table\":[{\"cells\":{\"fill\":{\"color\":\"#EBF0F8\"},\"line\":{\"color\":\"white\"}},\"header\":{\"fill\":{\"color\":\"#C8D4E3\"},\"line\":{\"color\":\"white\"}},\"type\":\"table\"}],\"barpolar\":[{\"marker\":{\"line\":{\"color\":\"#E5ECF6\",\"width\":0.5},\"pattern\":{\"fillmode\":\"overlay\",\"size\":10,\"solidity\":0.2}},\"type\":\"barpolar\"}],\"pie\":[{\"automargin\":true,\"type\":\"pie\"}]},\"layout\":{\"autotypenumbers\":\"strict\",\"colorway\":[\"#636efa\",\"#EF553B\",\"#00cc96\",\"#ab63fa\",\"#FFA15A\",\"#19d3f3\",\"#FF6692\",\"#B6E880\",\"#FF97FF\",\"#FECB52\"],\"font\":{\"color\":\"#2a3f5f\"},\"hovermode\":\"closest\",\"hoverlabel\":{\"align\":\"left\"},\"paper_bgcolor\":\"white\",\"plot_bgcolor\":\"#E5ECF6\",\"polar\":{\"bgcolor\":\"#E5ECF6\",\"angularaxis\":{\"gridcolor\":\"white\",\"linecolor\":\"white\",\"ticks\":\"\"},\"radialaxis\":{\"gridcolor\":\"white\",\"linecolor\":\"white\",\"ticks\":\"\"}},\"ternary\":{\"bgcolor\":\"#E5ECF6\",\"aaxis\":{\"gridcolor\":\"white\",\"linecolor\":\"white\",\"ticks\":\"\"},\"baxis\":{\"gridcolor\":\"white\",\"linecolor\":\"white\",\"ticks\":\"\"},\"caxis\":{\"gridcolor\":\"white\",\"linecolor\":\"white\",\"ticks\":\"\"}},\"coloraxis\":{\"colorbar\":{\"outlinewidth\":0,\"ticks\":\"\"}},\"colorscale\":{\"sequential\":[[0.0,\"#0d0887\"],[0.1111111111111111,\"#46039f\"],[0.2222222222222222,\"#7201a8\"],[0.3333333333333333,\"#9c179e\"],[0.4444444444444444,\"#bd3786\"],[0.5555555555555556,\"#d8576b\"],[0.6666666666666666,\"#ed7953\"],[0.7777777777777778,\"#fb9f3a\"],[0.8888888888888888,\"#fdca26\"],[1.0,\"#f0f921\"]],\"sequentialminus\":[[0.0,\"#0d0887\"],[0.1111111111111111,\"#46039f\"],[0.2222222222222222,\"#7201a8\"],[0.3333333333333333,\"#9c179e\"],[0.4444444444444444,\"#bd3786\"],[0.5555555555555556,\"#d8576b\"],[0.6666666666666666,\"#ed7953\"],[0.7777777777777778,\"#fb9f3a\"],[0.8888888888888888,\"#fdca26\"],[1.0,\"#f0f921\"]],\"diverging\":[[0,\"#8e0152\"],[0.1,\"#c51b7d\"],[0.2,\"#de77ae\"],[0.3,\"#f1b6da\"],[0.4,\"#fde0ef\"],[0.5,\"#f7f7f7\"],[0.6,\"#e6f5d0\"],[0.7,\"#b8e186\"],[0.8,\"#7fbc41\"],[0.9,\"#4d9221\"],[1,\"#276419\"]]},\"xaxis\":{\"gridcolor\":\"white\",\"linecolor\":\"white\",\"ticks\":\"\",\"title\":{\"standoff\":15},\"zerolinecolor\":\"white\",\"automargin\":true,\"zerolinewidth\":2},\"yaxis\":{\"gridcolor\":\"white\",\"linecolor\":\"white\",\"ticks\":\"\",\"title\":{\"standoff\":15},\"zerolinecolor\":\"white\",\"automargin\":true,\"zerolinewidth\":2},\"scene\":{\"xaxis\":{\"backgroundcolor\":\"#E5ECF6\",\"gridcolor\":\"white\",\"linecolor\":\"white\",\"showbackground\":true,\"ticks\":\"\",\"zerolinecolor\":\"white\",\"gridwidth\":2},\"yaxis\":{\"backgroundcolor\":\"#E5ECF6\",\"gridcolor\":\"white\",\"linecolor\":\"white\",\"showbackground\":true,\"ticks\":\"\",\"zerolinecolor\":\"white\",\"gridwidth\":2},\"zaxis\":{\"backgroundcolor\":\"#E5ECF6\",\"gridcolor\":\"white\",\"linecolor\":\"white\",\"showbackground\":true,\"ticks\":\"\",\"zerolinecolor\":\"white\",\"gridwidth\":2}},\"shapedefaults\":{\"line\":{\"color\":\"#2a3f5f\"}},\"annotationdefaults\":{\"arrowcolor\":\"#2a3f5f\",\"arrowhead\":0,\"arrowwidth\":1},\"geo\":{\"bgcolor\":\"white\",\"landcolor\":\"#E5ECF6\",\"subunitcolor\":\"white\",\"showland\":true,\"showlakes\":true,\"lakecolor\":\"white\"},\"title\":{\"x\":0.05},\"mapbox\":{\"style\":\"light\"}}},\"xaxis\":{\"anchor\":\"y\",\"domain\":[0.0,1.0],\"title\":{\"text\":\"CO2 emissions (metric tons per capita)\"},\"type\":\"log\"},\"yaxis\":{\"anchor\":\"x\",\"domain\":[0.0,1.0],\"title\":{\"text\":\"gdpPercap\"}},\"legend\":{\"title\":{\"text\":\"continent\"},\"tracegroupgap\":0,\"itemsizing\":\"constant\"},\"margin\":{\"t\":60}},                        {\"responsive\": true}                    ).then(function(){\n",
              "                            \n",
              "var gd = document.getElementById('2d00a8c2-a38f-4aa1-864c-93f78f3fb6dc');\n",
              "var x = new MutationObserver(function (mutations, observer) {{\n",
              "        var display = window.getComputedStyle(gd).display;\n",
              "        if (!display || display === 'none') {{\n",
              "            console.log([gd, 'removed!']);\n",
              "            Plotly.purge(gd);\n",
              "            observer.disconnect();\n",
              "        }}\n",
              "}});\n",
              "\n",
              "// Listen for the removal of the full notebook cells\n",
              "var notebookContainer = gd.closest('#notebook-container');\n",
              "if (notebookContainer) {{\n",
              "    x.observe(notebookContainer, {childList: true});\n",
              "}}\n",
              "\n",
              "// Listen for the clearing of the current output cell\n",
              "var outputEl = gd.closest('.output');\n",
              "if (outputEl) {{\n",
              "    x.observe(outputEl, {childList: true});\n",
              "}}\n",
              "\n",
              "                        })                };                            </script>        </div>\n",
              "</body>\n",
              "</html>"
            ]
          },
          "metadata": {}
        }
      ]
    },
    {
      "cell_type": "markdown",
      "source": [
        "1. What is the relationship between continent and 'Energy use (kg of oil equivalent per capita)'? (Stats test needed)\n",
        "\n",
        "To do this I used the chi-squared test, as it calculates the similarity between two distributions. I used it because all of its parameters are satisfied with these datasets. Before running the chi-squared test, I created a crosstab containing 'continent' and 'Energy use (kg of oil equivalent per capita)'.\n",
        "\n",
        "Output: Using the chi-squared statistical test, the result was 3392.0."
      ],
      "metadata": {
        "id": "ocnBTk_Af0Fe"
      }
    },
    {
      "cell_type": "code",
      "source": [
        "from scipy.stats.contingency import chi2_contingency\n",
        "contingency = pd.crosstab(df['continent'], df['Energy use (kg of oil equivalent per capita)'])\n",
        "c, p, dof, expected = chi2_contingency(contingency)\n",
        "print(f'Using the chi-squared statistical test, the result was {c}.')"
      ],
      "metadata": {
        "id": "1kKk0c1jxgrD",
        "colab": {
          "base_uri": "https://localhost:8080/"
        },
        "outputId": "f0a4da31-8462-452b-d29a-76f37bd7304c"
      },
      "execution_count": 107,
      "outputs": [
        {
          "output_type": "stream",
          "name": "stdout",
          "text": [
            "Using the chi-squared statistical test, the result was 3392.0.\n"
          ]
        }
      ]
    },
    {
      "cell_type": "markdown",
      "source": [
        "2. Is there a significant difference between Europe and Asia with respect to 'Imports of goods and services (% of GDP)' in the years after 1990? (Stats test needed)\n",
        "\n",
        "I first created a dataframe that is composed of every piece of data that is during or after 1990. I then used another loop to remove every piece of data that where 'continent' isn't Europe or Asia. I add dropna() to avoid any errors down the line. I also sort the dataframee by the continent name. This means that roughly the top half of the dataframe will be composed of data that comes from Asia, and the rest which is on the bottom will be composed of data from Europe. I then used loops to create new dataframes specifically for Europe and Asia during and after 1990.\n",
        "\n",
        "I converted the dataframes for Europe and Asia during and after 1990 to a numpy array. The numpy array contains 'Imports of goods and services (% of GDP)'. I had to convert them into numpy arrays to run kstest.\n",
        "\n",
        "I ran kstest, as I needed to see the p-value of both of the arrays.\n",
        "\n",
        "Output: KstestResult(statistic=0.9999996556777746, pvalue=0.0, statistic_location=4.96453900709, statistic_sign=-1)\n",
        "KstestResult(statistic=0.9841182665809833, pvalue=6.532261211009739e-229, statistic_location=3.64498841607, statistic_sign=-1)\n",
        "\n",
        "According to the output, both of the p-values are below 0.05, there is sufficient evidence to assume that neither of the arrays follow a normal distribution.\n",
        "\n",
        "This means that a t-test cannot be used, as it goes against one of its parametric assumptions. But the Mann-Whitney U test is still usable. So I ran the Mann-Whitney U test.\n",
        "\n",
        "Output: Mann-Whitney U Test:\n",
        "MannwhitneyuResult(statistic=9111.0, pvalue=0.05659838057404613)\n",
        "There is not a significant difference (pvalue > 0.05).\n",
        "\n",
        "The result shows that there is a p-value slightly above 0.05, meaning that there is not sufficient evidence to assume that 'Imports of goods and services (% of GDP)' between Asia and Europe are very different."
      ],
      "metadata": {
        "id": "RZ1omQeGg1rh"
      }
    },
    {
      "cell_type": "code",
      "source": [
        "for index, row in df.iterrows():\n",
        "  df_1990 = df.drop(df[df['Year'] <= 1990].index)\n",
        "\n",
        "for index, row in df.iterrows():\n",
        "  df_1990 = df.drop(df[(df['continent'] != 'Europe') & (df['continent'] != 'Asia')].index)\n",
        "\n",
        "df_1990 = df_1990.dropna()\n",
        "df_1990 = df_1990.sort_values('continent')\n",
        "for index, row in df.iterrows():\n",
        "  dfEurope_1990 = df_1990.drop(df_1990[df_1990['continent'] != 'Europe'].index)\n",
        "for index, row in df.iterrows():\n",
        "  dfAsia_1990 = df_1990.drop(df_1990[df_1990['continent'] != 'Asia'].index)\n",
        "\n",
        "importArrayEurope = dfEurope_1990['Imports of goods and services (% of GDP)'].to_numpy()\n",
        "importArrayAsia = dfAsia_1990['Imports of goods and services (% of GDP)'].to_numpy()\n",
        "\n",
        "ksTestEurope = kstest(importArrayEurope, 'norm')\n",
        "ksTestAsia = kstest(importArrayAsia, 'norm')\n",
        "\n",
        "# Both results suggest that the data is not normally distributed:\n",
        "print(ksTestEurope)\n",
        "print(ksTestAsia)\n",
        "print('\\nMann-Whitney U Test: ')\n",
        "mannwhitneyu_output = stats.mannwhitneyu(importArrayEurope, importArrayAsia)\n",
        "print(mannwhitneyu_output)\n",
        "print('There is not a significant difference (pvalue > 0.05).')"
      ],
      "metadata": {
        "id": "qm6U5SHozoGS",
        "colab": {
          "base_uri": "https://localhost:8080/"
        },
        "outputId": "68c76c60-4695-4c76-f45e-4fdcbb10f460"
      },
      "execution_count": 108,
      "outputs": [
        {
          "output_type": "stream",
          "name": "stdout",
          "text": [
            "KstestResult(statistic=0.9999996556777746, pvalue=0.0, statistic_location=4.96453900709, statistic_sign=-1)\n",
            "KstestResult(statistic=0.9841182665809833, pvalue=6.532261211009739e-229, statistic_location=3.64498841607, statistic_sign=-1)\n",
            "\n",
            "Mann-Whitney U Test: \n",
            "MannwhitneyuResult(statistic=9111.0, pvalue=0.05659838057404613)\n",
            "There is not a significant difference (pvalue > 0.05).\n"
          ]
        }
      ]
    },
    {
      "cell_type": "markdown",
      "source": [
        "3. What is the country (or countries) that has the highest 'Population density (people per sq. km of land area)' across all years? (i.e., which country has the highest average ranking in this category across each time point in the dataset?)\n",
        "\n",
        "The code begins by sorting the DataFrame in alphabetical order based on the 'Country Name' column. Then, I create individual DataFrames for each year between 1962 and 2007, filtering the data to include only rows for a specific year and removing any rows with missing values. Within each of these year-specific DataFrames, it calculates rankings based on population density and sorts the DataFrames by these rankings. The code then compiles these year-specific DataFrames into a list. Afterward, it computes the average rank for each country across all the years and stores this information in a dictionary. The final print statement attempts to display the country with the highest average population density ranking, but any potential errors in this part have been omitted from this explanation.\n",
        "\n",
        "Output: The country with the highest average population density ranking across all years is Singapore with an average ranking of 95.0."
      ],
      "metadata": {
        "id": "GO14UoM7l7N3"
      }
    },
    {
      "cell_type": "code",
      "source": [
        "for index, row in df.iterrows():\n",
        "  df_1962 = df.drop(df[df['Year'] != 1962].index).dropna()\n",
        "for index, row in df.iterrows():\n",
        "  df_1967 = df.drop(df[df['Year'] != 1967].index).dropna()\n",
        "for index, row in df.iterrows():\n",
        "  df_1972 = df.drop(df[df['Year'] != 1972].index).dropna()\n",
        "for index, row in df.iterrows():\n",
        "  df_1977 = df.drop(df[df['Year'] != 1977].index).dropna()\n",
        "for index, row in df.iterrows():\n",
        "  df_1982 = df.drop(df[df['Year'] != 1982].index).dropna()\n",
        "for index, row in df.iterrows():\n",
        "  df_1987 = df.drop(df[df['Year'] != 1987].index).dropna()\n",
        "for index, row in df.iterrows():\n",
        "  df_1992 = df.drop(df[df['Year'] != 1992].index).dropna()\n",
        "for index, row in df.iterrows():\n",
        "  df_1997 = df.drop(df[df['Year'] != 1997].index).dropna()\n",
        "for index, row in df.iterrows():\n",
        "  df_2002 = df.drop(df[df['Year'] != 2002].index).dropna()\n",
        "for index, row in df.iterrows():\n",
        "  df_2007 = df.drop(df[df['Year'] != 2007].index).dropna()\n",
        "\n",
        "df_1962['Rank'] = df_1962['Population density (people per sq. km of land area)'].rank()\n",
        "df_1962 = df_1962.sort_values(by=['Population density (people per sq. km of land area)'])\n",
        "df_1967['Rank'] = df_1967['Population density (people per sq. km of land area)'].rank()\n",
        "df_1967= df_1967.sort_values(by=['Population density (people per sq. km of land area)'])\n",
        "df_1972['Rank'] = df_1972['Population density (people per sq. km of land area)'].rank()\n",
        "df_1972 = df_1972.sort_values(by=['Population density (people per sq. km of land area)'])\n",
        "df_1977['Rank'] = df_1977['Population density (people per sq. km of land area)'].rank()\n",
        "df_1977 = df_1977.sort_values(by=['Population density (people per sq. km of land area)'])\n",
        "df_1982['Rank'] = df_1982['Population density (people per sq. km of land area)'].rank()\n",
        "df_1982 = df_1982.sort_values(by=['Population density (people per sq. km of land area)'])\n",
        "df_1987['Rank'] = df_1987['Population density (people per sq. km of land area)'].rank()\n",
        "df_1987 = df_1987.sort_values(by=['Population density (people per sq. km of land area)'])\n",
        "df_1992['Rank'] = df_1992['Population density (people per sq. km of land area)'].rank()\n",
        "df_1992 = df_1992.sort_values(by=['Population density (people per sq. km of land area)'])\n",
        "df_1997['Rank'] = df_1997['Population density (people per sq. km of land area)'].rank()\n",
        "df_1997 = df_1997.sort_values(by=['Population density (people per sq. km of land area)'])\n",
        "df_2002['Rank'] = df_2002['Population density (people per sq. km of land area)'].rank()\n",
        "df_2002 = df_2002.sort_values(by=['Population density (people per sq. km of land area)'])\n",
        "df_2007['Rank'] = df_2007['Population density (people per sq. km of land area)'].rank()\n",
        "df_2007 = df_2007.sort_values(by=['Population density (people per sq. km of land area)'])\n",
        "\n",
        "df_year_list  = [df_1962, df_1967, df_1972, df_1977, df_1982, df_1987, df_1992, df_1997, df_2002, df_2007]\n",
        "country_ranks = {}\n",
        "for df in df_year_list:\n",
        "    country_name = df['Country Name'].tolist()\n",
        "    ranks = df['Rank'].tolist()\n",
        "\n",
        "    for country, rank in zip(country_name, ranks):\n",
        "        if country not in country_ranks:\n",
        "            country_ranks[country] = []\n",
        "        country_ranks[country].append(rank)\n",
        "\n",
        "highest_average_rank = -1  # Initialize a variable to track the highest average rank\n",
        "best_country = None  # Initialize a variable to track the country with the highest rank\n",
        "\n",
        "for country, ave_rank in country_ranks.items():\n",
        "    final_average_rank = sum(ave_rank) / len(ave_rank)\n",
        "    if final_average_rank > highest_average_rank:\n",
        "        highest_average_rank = final_average_rank\n",
        "        best_country = country\n",
        "\n",
        "print(f'The country with the highest average population density ranking across all years is {best_country} with an average ranking of {highest_average_rank}.')"
      ],
      "metadata": {
        "colab": {
          "base_uri": "https://localhost:8080/"
        },
        "id": "sp_nqlDeu_iW",
        "outputId": "8d210258-2555-4159-a646-29c5aa356518"
      },
      "execution_count": 114,
      "outputs": [
        {
          "output_type": "stream",
          "name": "stdout",
          "text": [
            "The country with the highest average population density ranking across all years is Singapore with an average ranking of 95.0.\n"
          ]
        }
      ]
    },
    {
      "cell_type": "markdown",
      "source": [
        "4. What country (or countries) has shown the greatest increase in 'Life expectancy at birth, total (years)' between 1962 and 2007?\n",
        "\n",
        "I created a dataframe that was sorted based off the name of the country.\n",
        "\n",
        "After this, I iterated through the rows of the sorted dataframe, and it takes the year that is currently being iterated through, known as 'iterCountry' (the column for country is column 1). Then it checks to see if 'iterCountry' is the same as 'currentCountry' ('currentCountry' is essentially holding the year that the average is being calculated for), if they are the same, the loop will just continue iterating through the dataframe. But when there is a change in the country name, meaning that 'iterCountry' is not equavalent to 'currentCountry', I subtract the current index by 1, to get the 'stopIndex' ('startIndex' and 'stopIndex' essentialy hold the range of values where the year is the same). Then the difference is calculated between 1962 and 2007 using the subtraction operator to subtract, using 'startIndex' and 'stopIndex' to hold the years 1962 and 2007. The reason why this works without specifying the years 1962 and 2007 is because for every country, the most recent year is 2007 and the earliest year is 1962, meaning that I am able to almost neglect those values.\n",
        "\n",
        "After this, it checks to see if the difference calculated is greater than 'topDiff' (represents the greatest correlation value calculated). If 'diff' is greater than 'topDiff', I assign the value of 'diff' to 'topDiff' as 'diff' has the greatest difference now. I also have to clear the list 'topCountries' (I created a list rather than a single variable str, as the questions asks acknowledged the possibility of having multiple countries having the highest average), and then append 'currentCountry' to the list, as it is the new chart-topper.\n",
        "\n",
        "I also have to check to see if 'diff' is equivalent to 'topDiff'. If that is true, then I would append 'currentCountry' to the list 'topCountries'.\n",
        "\n",
        "After this, the value of 'startIndex' is set to the current index, and 'currentCountry' is also resent to the next year (note that this occurs whether or not 'diff' is greater than or equal 'topDiff').\n",
        "\n",
        "Output: The countries with the greatest increase in life expectancy at birth between 1962 and 2007 is ['Nepal'].\n",
        "['Nepal'] had an increase in life expectancy of 40.0362439025."
      ],
      "metadata": {
        "id": "8PbH9AxTpXdt"
      }
    },
    {
      "cell_type": "code",
      "source": [
        "df = pd.read_csv('/gapminder_clean.csv')\n",
        "\n",
        "dfSortByCountry = df.sort_values('Country Name')\n",
        "\n",
        "topCountries = []\n",
        "currentCountry = ''\n",
        "iterCountry = ''\n",
        "startIndex = 0\n",
        "stopIndex = 0\n",
        "diff = 0\n",
        "topDiff = 0\n",
        "\n",
        "for index, row in dfSortByCountry.iterrows():\n",
        "  iterCountry = dfSortByCountry.iloc[index, 1]\n",
        "  if iterCountry != currentCountry:\n",
        "    stopIndex = index - 1\n",
        "    diff = dfSortByCountry.iloc[stopIndex, 14] - dfSortByCountry.iloc[startIndex, 14]\n",
        "    if diff > topDiff:\n",
        "      topDiff = diff\n",
        "      topCountries.clear()\n",
        "      topCountries.append(currentCountry)\n",
        "    elif diff == topDiff:\n",
        "      topCountries.append(currentCountry)\n",
        "    startIndex = index\n",
        "    currentCountry = dfSortByCountry.iloc[index, 1]\n",
        "\n",
        "print(f'The countries with the greatest increase in life expectancy at birth between 1962 and 2007 is {topCountries}.')\n",
        "print(f'{topCountries} had an increase in life expectancy of {topDiff}.')\n"
      ],
      "metadata": {
        "id": "AYienJEUTaUV",
        "colab": {
          "base_uri": "https://localhost:8080/"
        },
        "outputId": "2aedb22f-cec9-4af3-d3f3-6f7e542bdd32"
      },
      "execution_count": 110,
      "outputs": [
        {
          "output_type": "stream",
          "name": "stdout",
          "text": [
            "The countries with the greatest increase in life expectancy at birth between 1962 and 2007 is ['Nepal'].\n",
            "['Nepal'] had an increase in life expectancy of 40.0362439025.\n"
          ]
        }
      ]
    }
  ]
}